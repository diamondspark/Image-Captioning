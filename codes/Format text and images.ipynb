{
 "cells": [
  {
   "cell_type": "code",
   "execution_count": 1,
   "metadata": {},
   "outputs": [
    {
     "name": "stderr",
     "output_type": "stream",
     "text": [
      "Using TensorFlow backend.\n"
     ]
    }
   ],
   "source": [
    "import keras\n",
    "import os\n",
    "os.environ['CUDA_VISIBLE_DEVICES']='3'"
   ]
  },
  {
   "cell_type": "markdown",
   "metadata": {},
   "source": [
    "# Save Image Feature. Comment Next block if loading from pkl file"
   ]
  },
  {
   "cell_type": "code",
   "execution_count": 1,
   "metadata": {},
   "outputs": [],
   "source": [
    "# from os import listdir\n",
    "# from pickle import dump\n",
    "# from keras.applications.vgg16 import VGG16\n",
    "# from keras.preprocessing.image import load_img\n",
    "# from keras.preprocessing.image import img_to_array\n",
    "# from keras.applications.vgg16 import preprocess_input\n",
    "# from keras.models import Model\n",
    "\n",
    "# def extract_features(directory):    \n",
    "#     model = VGG16()\n",
    "#     model.layers.pop()\n",
    "#     model = Model(inputs=model.inputs, outputs=model.layers[-1].output)\n",
    "#     print(model.summary())\n",
    "#     features = dict()\n",
    "#     for name in listdir(directory):\n",
    "#         filename = directory + '/' + name\n",
    "#         image = load_img(filename, target_size=(224, 224))\n",
    "#         image = img_to_array(image)\n",
    "#         image = image.reshape((1, image.shape[0], image.shape[1], image.shape[2]))\n",
    "#         image = preprocess_input(image)\n",
    "#         feature = model.predict(image, verbose=0)\n",
    "#         image_id = name.split('.')[0]\n",
    "#         features[image_id] = feature\n",
    "#         print('>%s' % name)\n",
    "#     return features\n",
    "\n",
    "# # extract features from all images\n",
    "# directory = './../data/Flicker8k_Dataset'\n",
    "# features = extract_features(directory)\n",
    "# print('Extracted Features: %d' % len(features))\n",
    "# # save to file\n",
    "# dump(features, open('./../data/features.pkl', 'wb'))"
   ]
  },
  {
   "cell_type": "markdown",
   "metadata": {},
   "source": [
    "# Prepare Data"
   ]
  },
  {
   "cell_type": "code",
   "execution_count": 2,
   "metadata": {},
   "outputs": [],
   "source": [
    "# load doc into memory\n",
    "def load_doc(filename):\n",
    "    file = open(filename, 'r')\n",
    "    text = file.read()\n",
    "    file.close()\n",
    "    return text\n",
    "\n",
    "filename = './../data/Flickr8k_text/Flickr8k.token.txt'\n",
    "# load descriptions\n",
    "doc = load_doc(filename)"
   ]
  },
  {
   "cell_type": "code",
   "execution_count": 12,
   "metadata": {},
   "outputs": [
    {
     "name": "stdout",
     "output_type": "stream",
     "text": [
      "Loaded: 8092 \n"
     ]
    }
   ],
   "source": [
    "# extract descriptions for images\n",
    "def load_descriptions(doc):\n",
    "        mapping = dict()\n",
    "        for line in doc.split('\\n'):\n",
    "            tokens = line.split()\n",
    "            if len(line) < 2:\n",
    "                continue\n",
    "            image_id, image_desc = tokens[0], tokens[1:]\n",
    "            image_id = image_id.split('.')[0]\n",
    "            image_desc = ' '.join(image_desc)\n",
    "            if image_id not in mapping:\n",
    "                mapping[image_id] = list()\n",
    "            mapping[image_id].append(image_desc)\n",
    "        return mapping\n",
    "    \n",
    "import string\n",
    "\n",
    "def clean_descriptions(descriptions):\n",
    "        table = str.maketrans('', '', string.punctuation)\n",
    "        for key, desc_list in descriptions.items():\n",
    "            for i in range(len(desc_list)):\n",
    "                desc = desc_list[i]\n",
    "                desc = desc.split()\n",
    "                desc = [word.lower() for word in desc]\n",
    "                desc = [w.translate(table) for w in desc]\n",
    "                desc = [word for word in desc if len(word)>1]\n",
    "                desc = [word for word in desc if word.isalpha()]\n",
    "                desc_list[i] =  ' '.join(desc)\n",
    "\n",
    "\n",
    "# parse descriptions\n",
    "descriptions = load_descriptions(doc)\n",
    "print('Loaded: %d ' % len(descriptions))\n",
    "# clean descriptions\n",
    "clean_descriptions(descriptions)"
   ]
  },
  {
   "cell_type": "code",
   "execution_count": 14,
   "metadata": {},
   "outputs": [
    {
     "name": "stdout",
     "output_type": "stream",
     "text": [
      "Vocabulary Size: 8763\n"
     ]
    }
   ],
   "source": [
    "# convert the loaded descriptions into a vocabulary of words\n",
    "def to_vocabulary(descriptions):\n",
    "        all_desc = set()\n",
    "        for key in descriptions.keys():\n",
    "            [all_desc.update(d.split()) for d in descriptions[key]]\n",
    "        return all_desc\n",
    "\n",
    "# summarize vocabulary\n",
    "vocabulary = to_vocabulary(descriptions)\n",
    "print('Vocabulary Size: %d' % len(vocabulary))"
   ]
  },
  {
   "cell_type": "code",
   "execution_count": 17,
   "metadata": {},
   "outputs": [],
   "source": [
    "# save descriptions to file, one per line\n",
    "def save_descriptions(descriptions, filename):\n",
    "        lines = list()\n",
    "        for key, desc_list in descriptions.items():\n",
    "            for desc in desc_list:\n",
    "                lines.append(key + ' ' + desc)\n",
    "        data = '\\n'.join(lines)\n",
    "        file = open(filename, 'w')\n",
    "        file.write(data)\n",
    "        file.close()\n",
    " \n",
    "# save descriptions\n",
    "save_descriptions(descriptions, './../data/descriptions.txt')"
   ]
  },
  {
   "cell_type": "code",
   "execution_count": null,
   "metadata": {},
   "outputs": [],
   "source": []
  }
 ],
 "metadata": {
  "kernelspec": {
   "display_name": "Python 3",
   "language": "python",
   "name": "python3"
  },
  "language_info": {
   "codemirror_mode": {
    "name": "ipython",
    "version": 3
   },
   "file_extension": ".py",
   "mimetype": "text/x-python",
   "name": "python",
   "nbconvert_exporter": "python",
   "pygments_lexer": "ipython3",
   "version": "3.5.6"
  }
 },
 "nbformat": 4,
 "nbformat_minor": 2
}
